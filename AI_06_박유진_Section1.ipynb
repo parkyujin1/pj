{
  "nbformat": 4,
  "nbformat_minor": 0,
  "metadata": {
    "colab": {
      "name": "s011a-orientation.ipynb의 사본",
      "provenance": [],
      "collapsed_sections": []
    },
    "kernelspec": {
      "name": "python3",
      "display_name": "Python 3"
    },
    "language_info": {
      "name": "python"
    }
  },
  "cells": [
    {
      "cell_type": "markdown",
      "metadata": {
        "id": "6oYt3RjDqWCE"
      },
      "source": [
        "# 📝 **Project section1**"
      ]
    },
    {
      "cell_type": "markdown",
      "metadata": {
        "id": "NEr4hzc-vp_G"
      },
      "source": [
        ""
      ]
    },
    {
      "cell_type": "markdown",
      "metadata": {
        "id": "IMWHKyERvrEC"
      },
      "source": [
        "# 목차\n",
        "## 1. 샘플데이터 불러오기\n",
        "## 2. 데이터 전처리\n",
        "## 3. 필수포함 주제\n",
        "## 4. 다음 분기에 어떤 게임을 설계해야 할까\n"
      ]
    },
    {
      "cell_type": "markdown",
      "metadata": {
        "id": "_bdoFTVIwku4"
      },
      "source": [
        "# 1. 샘플 데이터 불러오기"
      ]
    },
    {
      "cell_type": "code",
      "metadata": {
        "id": "3_ifdyGPvSuP",
        "colab": {
          "base_uri": "https://localhost:8080/",
          "height": 255
        },
        "outputId": "b0a4cf0f-2fae-4655-baec-04a0e2bf7e04"
      },
      "source": [
        "\n",
        "import pandas as pd \n",
        "df=pd.read_csv('https://ds-lecture-data.s3.ap-northeast-2.amazonaws.com/datasets/vgames2.csv')\n",
        "print(df.columns)\n",
        "df.head()\n"
      ],
      "execution_count": null,
      "outputs": [
        {
          "output_type": "stream",
          "text": [
            "Index(['Unnamed: 0', 'Name', 'Platform', 'Year', 'Genre', 'Publisher',\n",
            "       'NA_Sales', 'EU_Sales', 'JP_Sales', 'Other_Sales'],\n",
            "      dtype='object')\n"
          ],
          "name": "stdout"
        },
        {
          "output_type": "execute_result",
          "data": {
            "text/html": [
              "<div>\n",
              "<style scoped>\n",
              "    .dataframe tbody tr th:only-of-type {\n",
              "        vertical-align: middle;\n",
              "    }\n",
              "\n",
              "    .dataframe tbody tr th {\n",
              "        vertical-align: top;\n",
              "    }\n",
              "\n",
              "    .dataframe thead th {\n",
              "        text-align: right;\n",
              "    }\n",
              "</style>\n",
              "<table border=\"1\" class=\"dataframe\">\n",
              "  <thead>\n",
              "    <tr style=\"text-align: right;\">\n",
              "      <th></th>\n",
              "      <th>Unnamed: 0</th>\n",
              "      <th>Name</th>\n",
              "      <th>Platform</th>\n",
              "      <th>Year</th>\n",
              "      <th>Genre</th>\n",
              "      <th>Publisher</th>\n",
              "      <th>NA_Sales</th>\n",
              "      <th>EU_Sales</th>\n",
              "      <th>JP_Sales</th>\n",
              "      <th>Other_Sales</th>\n",
              "    </tr>\n",
              "  </thead>\n",
              "  <tbody>\n",
              "    <tr>\n",
              "      <th>0</th>\n",
              "      <td>1</td>\n",
              "      <td>Candace Kane's Candy Factory</td>\n",
              "      <td>DS</td>\n",
              "      <td>2008.0</td>\n",
              "      <td>Action</td>\n",
              "      <td>Destineer</td>\n",
              "      <td>0.04</td>\n",
              "      <td>0</td>\n",
              "      <td>0</td>\n",
              "      <td>0</td>\n",
              "    </tr>\n",
              "    <tr>\n",
              "      <th>1</th>\n",
              "      <td>2</td>\n",
              "      <td>The Munchables</td>\n",
              "      <td>Wii</td>\n",
              "      <td>2009.0</td>\n",
              "      <td>Action</td>\n",
              "      <td>Namco Bandai Games</td>\n",
              "      <td>0.17</td>\n",
              "      <td>0</td>\n",
              "      <td>0</td>\n",
              "      <td>0.01</td>\n",
              "    </tr>\n",
              "    <tr>\n",
              "      <th>2</th>\n",
              "      <td>3</td>\n",
              "      <td>Otome wa Oanesama Boku ni Koi Shiteru Portable</td>\n",
              "      <td>PSP</td>\n",
              "      <td>2010.0</td>\n",
              "      <td>Adventure</td>\n",
              "      <td>Alchemist</td>\n",
              "      <td>0</td>\n",
              "      <td>0</td>\n",
              "      <td>0.02</td>\n",
              "      <td>0</td>\n",
              "    </tr>\n",
              "    <tr>\n",
              "      <th>3</th>\n",
              "      <td>4</td>\n",
              "      <td>Deal or No Deal: Special Edition</td>\n",
              "      <td>DS</td>\n",
              "      <td>2010.0</td>\n",
              "      <td>Misc</td>\n",
              "      <td>Zoo Games</td>\n",
              "      <td>0.04</td>\n",
              "      <td>0</td>\n",
              "      <td>0</td>\n",
              "      <td>0</td>\n",
              "    </tr>\n",
              "    <tr>\n",
              "      <th>4</th>\n",
              "      <td>5</td>\n",
              "      <td>Ben 10 Ultimate Alien: Cosmic Destruction</td>\n",
              "      <td>PS3</td>\n",
              "      <td>2010.0</td>\n",
              "      <td>Platform</td>\n",
              "      <td>D3Publisher</td>\n",
              "      <td>0.12</td>\n",
              "      <td>0.09</td>\n",
              "      <td>0</td>\n",
              "      <td>0.04</td>\n",
              "    </tr>\n",
              "  </tbody>\n",
              "</table>\n",
              "</div>"
            ],
            "text/plain": [
              "   Unnamed: 0  ... Other_Sales\n",
              "0           1  ...           0\n",
              "1           2  ...        0.01\n",
              "2           3  ...           0\n",
              "3           4  ...           0\n",
              "4           5  ...        0.04\n",
              "\n",
              "[5 rows x 10 columns]"
            ]
          },
          "metadata": {
            "tags": []
          },
          "execution_count": 6
        }
      ]
    },
    {
      "cell_type": "markdown",
      "metadata": {
        "id": "IopS_MBCwx6F"
      },
      "source": [
        "# 2. 데이터 전처리\n"
      ]
    },
    {
      "cell_type": "code",
      "metadata": {
        "id": "q3H2UXDQv-oj"
      },
      "source": [
        "\n",
        "\n",
        "import numpy as np\n",
        "\n",
        "# 첫번째 열 삭제\n",
        "try:\n",
        "  df=df.drop(['Unnamed: 0'], axis=1)\n",
        "except:\n",
        "  pass\n",
        "\n",
        "# 출고량 numerical value 화 (전부 (M이 있을 수 있음) 1000을 곱해주되, K가 들어가면 안곱해주었습니다. )\n",
        "def to_int(x):\n",
        "  x=str(x)\n",
        "  if 'K' in x:\n",
        "    x=x.replace('K','')\n",
        "    x=int(x)\n",
        "  else:\n",
        "    x=x.replace('M','')\n",
        "    x=int(float(x)*1000)\n",
        "  return x\n",
        "try:\n",
        "  df['NA_Sales']=df['NA_Sales'].apply(to_int)\n",
        "  df['EU_Sales']=df['EU_Sales'].apply(to_int)\n",
        "  df['JP_Sales']=df['JP_Sales'].apply(to_int)\n",
        "  df['Other_Sales']=df['Other_Sales'].apply(to_int)\n",
        "except:\n",
        "  pass\n"
      ],
      "execution_count": null,
      "outputs": []
    },
    {
      "cell_type": "code",
      "metadata": {
        "id": "Ym1wldgwwMwH",
        "colab": {
          "base_uri": "https://localhost:8080/",
          "height": 488
        },
        "outputId": "47bfa578-6114-4a13-e1dc-6ad89b331871"
      },
      "source": [
        "# 각 판매량을 각게임의 전체판매량의 비중으로 계산하여 feature 추가\n",
        "#  특정 게임의 흥행을 고려하지 않는 feature 필요하기 때문\n",
        "df['Game_sales']=df['NA_Sales']+df['EU_Sales']+df['JP_Sales']+df['Other_Sales']\n",
        "df['NA_Sales(rate)']=df['NA_Sales']/df['Game_sales']\n",
        "df['EU_Sales(rate)']=df['EU_Sales']/df['Game_sales']\n",
        "df['JP_Sales(rate)']=df['JP_Sales']/df['Game_sales']\n",
        "df['Other_Sales(rate)']=df['Other_Sales']/df['Game_sales']\n",
        "\n",
        "# 년도가 이상하게 표기되어있는 경우. 수정\n",
        "def re_year(x):\n",
        "  if x>1900 and x<2100:\n",
        "    return x\n",
        "  elif x<=21:\n",
        "    return 2000+x\n",
        "  elif x>21:\n",
        "    return 1900+x\n",
        "  else:\n",
        "    return np.nan\n",
        "df['Year']=df['Year'].apply(re_year)\n",
        "df=df.dropna()\n",
        "df.head()"
      ],
      "execution_count": null,
      "outputs": [
        {
          "output_type": "execute_result",
          "data": {
            "text/html": [
              "<div>\n",
              "<style scoped>\n",
              "    .dataframe tbody tr th:only-of-type {\n",
              "        vertical-align: middle;\n",
              "    }\n",
              "\n",
              "    .dataframe tbody tr th {\n",
              "        vertical-align: top;\n",
              "    }\n",
              "\n",
              "    .dataframe thead th {\n",
              "        text-align: right;\n",
              "    }\n",
              "</style>\n",
              "<table border=\"1\" class=\"dataframe\">\n",
              "  <thead>\n",
              "    <tr style=\"text-align: right;\">\n",
              "      <th></th>\n",
              "      <th>Name</th>\n",
              "      <th>Platform</th>\n",
              "      <th>Year</th>\n",
              "      <th>Genre</th>\n",
              "      <th>Publisher</th>\n",
              "      <th>NA_Sales</th>\n",
              "      <th>EU_Sales</th>\n",
              "      <th>JP_Sales</th>\n",
              "      <th>Other_Sales</th>\n",
              "      <th>Game_sales</th>\n",
              "      <th>NA_Sales(rate)</th>\n",
              "      <th>EU_Sales(rate)</th>\n",
              "      <th>JP_Sales(rate)</th>\n",
              "      <th>Other_Sales(rate)</th>\n",
              "    </tr>\n",
              "  </thead>\n",
              "  <tbody>\n",
              "    <tr>\n",
              "      <th>0</th>\n",
              "      <td>Candace Kane's Candy Factory</td>\n",
              "      <td>DS</td>\n",
              "      <td>2008.0</td>\n",
              "      <td>Action</td>\n",
              "      <td>Destineer</td>\n",
              "      <td>40</td>\n",
              "      <td>0</td>\n",
              "      <td>0</td>\n",
              "      <td>0</td>\n",
              "      <td>40</td>\n",
              "      <td>1.000000</td>\n",
              "      <td>0.00</td>\n",
              "      <td>0.0</td>\n",
              "      <td>0.000000</td>\n",
              "    </tr>\n",
              "    <tr>\n",
              "      <th>1</th>\n",
              "      <td>The Munchables</td>\n",
              "      <td>Wii</td>\n",
              "      <td>2009.0</td>\n",
              "      <td>Action</td>\n",
              "      <td>Namco Bandai Games</td>\n",
              "      <td>170</td>\n",
              "      <td>0</td>\n",
              "      <td>0</td>\n",
              "      <td>10</td>\n",
              "      <td>180</td>\n",
              "      <td>0.944444</td>\n",
              "      <td>0.00</td>\n",
              "      <td>0.0</td>\n",
              "      <td>0.055556</td>\n",
              "    </tr>\n",
              "    <tr>\n",
              "      <th>2</th>\n",
              "      <td>Otome wa Oanesama Boku ni Koi Shiteru Portable</td>\n",
              "      <td>PSP</td>\n",
              "      <td>2010.0</td>\n",
              "      <td>Adventure</td>\n",
              "      <td>Alchemist</td>\n",
              "      <td>0</td>\n",
              "      <td>0</td>\n",
              "      <td>20</td>\n",
              "      <td>0</td>\n",
              "      <td>20</td>\n",
              "      <td>0.000000</td>\n",
              "      <td>0.00</td>\n",
              "      <td>1.0</td>\n",
              "      <td>0.000000</td>\n",
              "    </tr>\n",
              "    <tr>\n",
              "      <th>3</th>\n",
              "      <td>Deal or No Deal: Special Edition</td>\n",
              "      <td>DS</td>\n",
              "      <td>2010.0</td>\n",
              "      <td>Misc</td>\n",
              "      <td>Zoo Games</td>\n",
              "      <td>40</td>\n",
              "      <td>0</td>\n",
              "      <td>0</td>\n",
              "      <td>0</td>\n",
              "      <td>40</td>\n",
              "      <td>1.000000</td>\n",
              "      <td>0.00</td>\n",
              "      <td>0.0</td>\n",
              "      <td>0.000000</td>\n",
              "    </tr>\n",
              "    <tr>\n",
              "      <th>4</th>\n",
              "      <td>Ben 10 Ultimate Alien: Cosmic Destruction</td>\n",
              "      <td>PS3</td>\n",
              "      <td>2010.0</td>\n",
              "      <td>Platform</td>\n",
              "      <td>D3Publisher</td>\n",
              "      <td>120</td>\n",
              "      <td>90</td>\n",
              "      <td>0</td>\n",
              "      <td>40</td>\n",
              "      <td>250</td>\n",
              "      <td>0.480000</td>\n",
              "      <td>0.36</td>\n",
              "      <td>0.0</td>\n",
              "      <td>0.160000</td>\n",
              "    </tr>\n",
              "  </tbody>\n",
              "</table>\n",
              "</div>"
            ],
            "text/plain": [
              "                                             Name  ... Other_Sales(rate)\n",
              "0                    Candace Kane's Candy Factory  ...          0.000000\n",
              "1                                  The Munchables  ...          0.055556\n",
              "2  Otome wa Oanesama Boku ni Koi Shiteru Portable  ...          0.000000\n",
              "3                Deal or No Deal: Special Edition  ...          0.000000\n",
              "4       Ben 10 Ultimate Alien: Cosmic Destruction  ...          0.160000\n",
              "\n",
              "[5 rows x 14 columns]"
            ]
          },
          "metadata": {
            "tags": []
          },
          "execution_count": 8
        }
      ]
    },
    {
      "cell_type": "markdown",
      "metadata": {
        "id": "AqW32gOjwdrB"
      },
      "source": [
        "# 3-가정1 지역에 따라서 선호하는 게임 장르가 다를까\n",
        "\n",
        "*   가정1 : 지역에 따른 '전체 게임 출고량'은 오직 인구수에만 종속된다. (선호도 이외의 영향은 없다)\n",
        "*   가정2 : 게임의 전지역 출고량은 지역 장르선호도와 독립적이다. (특정 게임의 흥행은 선호도에 가중치를 주지않는다.)\n"
      ]
    },
    {
      "cell_type": "code",
      "metadata": {
        "id": "c3xhnADOw6ta",
        "colab": {
          "base_uri": "https://localhost:8080/",
          "height": 171
        },
        "outputId": "aa5f7895-9b81-4498-ee4f-0f6a266af698"
      },
      "source": [
        "from scipy.stats import chi2_contingency\n",
        "\n",
        "# 년도에 상관없이 지역별로 각 장르 게임들의 출고량 rate 합을 그룹화 grouped_df1\n",
        "grouped_df1=df.groupby('Genre').sum()[['NA_Sales(rate)','EU_Sales(rate)','JP_Sales(rate)', 'Other_Sales(rate)']]\n",
        "grouped_df1_T=grouped_df1.transpose()\n",
        "grouped_df1_T['Total_sales']=grouped_df1_T.sum(axis=1)\n",
        "grouped_df1_T.head()"
      ],
      "execution_count": null,
      "outputs": [
        {
          "output_type": "execute_result",
          "data": {
            "text/html": [
              "<div>\n",
              "<style scoped>\n",
              "    .dataframe tbody tr th:only-of-type {\n",
              "        vertical-align: middle;\n",
              "    }\n",
              "\n",
              "    .dataframe tbody tr th {\n",
              "        vertical-align: top;\n",
              "    }\n",
              "\n",
              "    .dataframe thead th {\n",
              "        text-align: right;\n",
              "    }\n",
              "</style>\n",
              "<table border=\"1\" class=\"dataframe\">\n",
              "  <thead>\n",
              "    <tr style=\"text-align: right;\">\n",
              "      <th>Genre</th>\n",
              "      <th>Action</th>\n",
              "      <th>Adventure</th>\n",
              "      <th>Fighting</th>\n",
              "      <th>Misc</th>\n",
              "      <th>Platform</th>\n",
              "      <th>Puzzle</th>\n",
              "      <th>Racing</th>\n",
              "      <th>Role-Playing</th>\n",
              "      <th>Shooter</th>\n",
              "      <th>Simulation</th>\n",
              "      <th>Sports</th>\n",
              "      <th>Strategy</th>\n",
              "      <th>Total_sales</th>\n",
              "    </tr>\n",
              "  </thead>\n",
              "  <tbody>\n",
              "    <tr>\n",
              "      <th>NA_Sales(rate)</th>\n",
              "      <td>1525.619292</td>\n",
              "      <td>342.188702</td>\n",
              "      <td>348.445844</td>\n",
              "      <td>807.461452</td>\n",
              "      <td>501.594820</td>\n",
              "      <td>319.931602</td>\n",
              "      <td>675.419334</td>\n",
              "      <td>432.557585</td>\n",
              "      <td>692.748044</td>\n",
              "      <td>409.577643</td>\n",
              "      <td>1210.555555</td>\n",
              "      <td>195.972163</td>\n",
              "      <td>7462.072036</td>\n",
              "    </tr>\n",
              "    <tr>\n",
              "      <th>EU_Sales(rate)</th>\n",
              "      <td>823.705975</td>\n",
              "      <td>208.330453</td>\n",
              "      <td>143.982251</td>\n",
              "      <td>327.132529</td>\n",
              "      <td>211.535672</td>\n",
              "      <td>120.129892</td>\n",
              "      <td>375.877842</td>\n",
              "      <td>232.452620</td>\n",
              "      <td>379.688596</td>\n",
              "      <td>196.063888</td>\n",
              "      <td>538.379128</td>\n",
              "      <td>207.948389</td>\n",
              "      <td>3765.227234</td>\n",
              "    </tr>\n",
              "    <tr>\n",
              "      <th>JP_Sales(rate)</th>\n",
              "      <td>658.357007</td>\n",
              "      <td>669.495053</td>\n",
              "      <td>294.008705</td>\n",
              "      <td>436.876869</td>\n",
              "      <td>106.652981</td>\n",
              "      <td>99.585575</td>\n",
              "      <td>72.600294</td>\n",
              "      <td>725.787645</td>\n",
              "      <td>108.868986</td>\n",
              "      <td>185.525061</td>\n",
              "      <td>388.643571</td>\n",
              "      <td>224.475923</td>\n",
              "      <td>3970.877670</td>\n",
              "    </tr>\n",
              "    <tr>\n",
              "      <th>Other_Sales(rate)</th>\n",
              "      <td>232.317726</td>\n",
              "      <td>47.985792</td>\n",
              "      <td>48.563200</td>\n",
              "      <td>109.529150</td>\n",
              "      <td>53.216527</td>\n",
              "      <td>26.352931</td>\n",
              "      <td>94.102530</td>\n",
              "      <td>74.202151</td>\n",
              "      <td>98.694374</td>\n",
              "      <td>54.833408</td>\n",
              "      <td>161.421746</td>\n",
              "      <td>40.603524</td>\n",
              "      <td>1041.823060</td>\n",
              "    </tr>\n",
              "  </tbody>\n",
              "</table>\n",
              "</div>"
            ],
            "text/plain": [
              "Genre                   Action   Adventure  ...    Strategy  Total_sales\n",
              "NA_Sales(rate)     1525.619292  342.188702  ...  195.972163  7462.072036\n",
              "EU_Sales(rate)      823.705975  208.330453  ...  207.948389  3765.227234\n",
              "JP_Sales(rate)      658.357007  669.495053  ...  224.475923  3970.877670\n",
              "Other_Sales(rate)   232.317726   47.985792  ...   40.603524  1041.823060\n",
              "\n",
              "[4 rows x 13 columns]"
            ]
          },
          "metadata": {
            "tags": []
          },
          "execution_count": 9
        }
      ]
    },
    {
      "cell_type": "code",
      "metadata": {
        "id": "_93MXIJ0w9zF",
        "colab": {
          "base_uri": "https://localhost:8080/"
        },
        "outputId": "13fa3147-ca94-4599-d8ea-72d9eb68be38"
      },
      "source": [
        "# 2 sample 카이제곱검정을 통해 두변수가 독립적이라는 귀무가설을 검정.\n",
        "chi2 = chi2_contingency(grouped_df1_T[grouped_df1_T.columns.difference(['Total_sales'])])\n",
        "chi2"
      ],
      "execution_count": null,
      "outputs": [
        {
          "output_type": "execute_result",
          "data": {
            "text/plain": [
              "(1834.559710433277,\n",
              " 0.0,\n",
              " 33,\n",
              " array([[1488.73850969,  582.62976243,  383.67180728,  772.3979737 ,\n",
              "          401.13232067,  260.069752  ,  559.65540272,  673.14873972,\n",
              "          588.14360876,  388.72616642, 1056.3610598 ,  307.39693302],\n",
              "        [ 751.19065507,  293.98449093,  193.59388796,  389.73811456,\n",
              "          202.40414873,  131.22651567,  282.39204255,  339.65873755,\n",
              "          296.76667854,  196.1442266 ,  533.02077654,  155.10695933],\n",
              "        [ 792.21943666,  310.04143385,  204.16766346,  411.02496081,\n",
              "          213.45912599,  138.39388924,  297.81582526,  358.2103317 ,\n",
              "          312.97557992,  206.85729735,  562.13348299,  163.57864294],\n",
              "        [ 207.85139859,   81.34431278,   53.5666413 ,  107.83895093,\n",
              "           56.00440462,   36.30984309,   78.13672947,   93.98219103,\n",
              "           82.11413278,   54.27230963,  147.48468066,   42.91746471]]))"
            ]
          },
          "metadata": {
            "tags": []
          },
          "execution_count": 10
        }
      ]
    },
    {
      "cell_type": "code",
      "metadata": {
        "id": "uNlYIieRw-7v"
      },
      "source": [
        "# p값이 0 이므로 지역에 따른 장르는 독립적이지 않다.\n",
        "# 즉, 지역에 따라 선호하는 게임이 유의미하게 다르다."
      ],
      "execution_count": null,
      "outputs": []
    },
    {
      "cell_type": "markdown",
      "metadata": {
        "id": "d1Siv5YzxEOw"
      },
      "source": [
        "# 3-가정2 연도별 게임의 트렌드가 있을까\n",
        "\n",
        "* 가정1 : 각 년도에 나오는 각 장르당 게임수는 트렌드와 독립적이다. \n",
        "\n"
      ]
    },
    {
      "cell_type": "code",
      "metadata": {
        "id": "7qkK8GVYxSwH",
        "colab": {
          "base_uri": "https://localhost:8080/",
          "height": 202
        },
        "outputId": "f711e816-b4da-4ef2-db57-be61fc474dfc"
      },
      "source": [
        "# 년도와 장르별로 게임 판매량을 그룹화함\n",
        "grouped_df2=df.groupby(['Year', 'Genre']).sum()[['Game_sales']]\n",
        "\n",
        "# 년도별 출시게임의 갯수를 저장\n",
        "count=df.groupby(['Year']).count()\n",
        "count=count.reset_index()['Game_sales']\n",
        "\n",
        "# 년도index, 장르columns 대하여 정리\n",
        "grouped_df2=grouped_df2.pivot_table(values='Game_sales', index='Year', columns='Genre')\n",
        "grouped_df2=grouped_df2.reset_index()\n",
        "grouped_df2=grouped_df2.fillna(0)\n",
        "grouped_df2['Count']=count\n",
        "grouped_df2.head()"
      ],
      "execution_count": null,
      "outputs": [
        {
          "output_type": "execute_result",
          "data": {
            "text/html": [
              "<div>\n",
              "<style scoped>\n",
              "    .dataframe tbody tr th:only-of-type {\n",
              "        vertical-align: middle;\n",
              "    }\n",
              "\n",
              "    .dataframe tbody tr th {\n",
              "        vertical-align: top;\n",
              "    }\n",
              "\n",
              "    .dataframe thead th {\n",
              "        text-align: right;\n",
              "    }\n",
              "</style>\n",
              "<table border=\"1\" class=\"dataframe\">\n",
              "  <thead>\n",
              "    <tr style=\"text-align: right;\">\n",
              "      <th>Genre</th>\n",
              "      <th>Year</th>\n",
              "      <th>Action</th>\n",
              "      <th>Adventure</th>\n",
              "      <th>Fighting</th>\n",
              "      <th>Misc</th>\n",
              "      <th>Platform</th>\n",
              "      <th>Puzzle</th>\n",
              "      <th>Racing</th>\n",
              "      <th>Role-Playing</th>\n",
              "      <th>Shooter</th>\n",
              "      <th>Simulation</th>\n",
              "      <th>Sports</th>\n",
              "      <th>Strategy</th>\n",
              "      <th>Count</th>\n",
              "    </tr>\n",
              "  </thead>\n",
              "  <tbody>\n",
              "    <tr>\n",
              "      <th>0</th>\n",
              "      <td>1980.0</td>\n",
              "      <td>340.0</td>\n",
              "      <td>0.0</td>\n",
              "      <td>770.0</td>\n",
              "      <td>2700.0</td>\n",
              "      <td>0.0</td>\n",
              "      <td>0.0</td>\n",
              "      <td>0.0</td>\n",
              "      <td>0.0</td>\n",
              "      <td>7070.0</td>\n",
              "      <td>0.0</td>\n",
              "      <td>0.0</td>\n",
              "      <td>0.0</td>\n",
              "      <td>8</td>\n",
              "    </tr>\n",
              "    <tr>\n",
              "      <th>1</th>\n",
              "      <td>1981.0</td>\n",
              "      <td>14790.0</td>\n",
              "      <td>0.0</td>\n",
              "      <td>0.0</td>\n",
              "      <td>0.0</td>\n",
              "      <td>6920.0</td>\n",
              "      <td>2250.0</td>\n",
              "      <td>480.0</td>\n",
              "      <td>0.0</td>\n",
              "      <td>10020.0</td>\n",
              "      <td>440.0</td>\n",
              "      <td>780.0</td>\n",
              "      <td>0.0</td>\n",
              "      <td>46</td>\n",
              "    </tr>\n",
              "    <tr>\n",
              "      <th>2</th>\n",
              "      <td>1982.0</td>\n",
              "      <td>6500.0</td>\n",
              "      <td>0.0</td>\n",
              "      <td>0.0</td>\n",
              "      <td>870.0</td>\n",
              "      <td>5030.0</td>\n",
              "      <td>10040.0</td>\n",
              "      <td>1570.0</td>\n",
              "      <td>0.0</td>\n",
              "      <td>3810.0</td>\n",
              "      <td>0.0</td>\n",
              "      <td>1060.0</td>\n",
              "      <td>0.0</td>\n",
              "      <td>36</td>\n",
              "    </tr>\n",
              "    <tr>\n",
              "      <th>3</th>\n",
              "      <td>1983.0</td>\n",
              "      <td>2860.0</td>\n",
              "      <td>400.0</td>\n",
              "      <td>0.0</td>\n",
              "      <td>2140.0</td>\n",
              "      <td>6930.0</td>\n",
              "      <td>780.0</td>\n",
              "      <td>0.0</td>\n",
              "      <td>0.0</td>\n",
              "      <td>490.0</td>\n",
              "      <td>0.0</td>\n",
              "      <td>3200.0</td>\n",
              "      <td>0.0</td>\n",
              "      <td>17</td>\n",
              "    </tr>\n",
              "    <tr>\n",
              "      <th>4</th>\n",
              "      <td>1984.0</td>\n",
              "      <td>1850.0</td>\n",
              "      <td>0.0</td>\n",
              "      <td>0.0</td>\n",
              "      <td>1450.0</td>\n",
              "      <td>690.0</td>\n",
              "      <td>3140.0</td>\n",
              "      <td>5950.0</td>\n",
              "      <td>0.0</td>\n",
              "      <td>31100.0</td>\n",
              "      <td>0.0</td>\n",
              "      <td>6170.0</td>\n",
              "      <td>0.0</td>\n",
              "      <td>14</td>\n",
              "    </tr>\n",
              "  </tbody>\n",
              "</table>\n",
              "</div>"
            ],
            "text/plain": [
              "Genre    Year   Action  Adventure  ...  Sports  Strategy  Count\n",
              "0      1980.0    340.0        0.0  ...     0.0       0.0      8\n",
              "1      1981.0  14790.0        0.0  ...   780.0       0.0     46\n",
              "2      1982.0   6500.0        0.0  ...  1060.0       0.0     36\n",
              "3      1983.0   2860.0      400.0  ...  3200.0       0.0     17\n",
              "4      1984.0   1850.0        0.0  ...  6170.0       0.0     14\n",
              "\n",
              "[5 rows x 14 columns]"
            ]
          },
          "metadata": {
            "tags": []
          },
          "execution_count": 12
        }
      ]
    },
    {
      "cell_type": "code",
      "metadata": {
        "id": "h9AVDfLuxT_U",
        "colab": {
          "base_uri": "https://localhost:8080/",
          "height": 202
        },
        "outputId": "21cbf144-0cb4-4dca-c3d3-7da2c8c5b07a"
      },
      "source": [
        "# 특정 년도는 게임수가 적어 묶어주겠음 (A개 이상으로)\n",
        "A=1200\n",
        "temp=0\n",
        "for i in grouped_df2.T.columns:\n",
        "  grouped_df2.T[i]=grouped_df2.T[i]+temp\n",
        "  if int(grouped_df2['Count'][i]) < A :\n",
        "    temp=grouped_df2.T[i]\n",
        "    grouped_df2=grouped_df2.T.drop([i],axis=1).T\n",
        "  else:\n",
        "    temp=0\n",
        "#마지막에도 80개이하면 버려지게됨. 끝에 붙여줌\n",
        "if temp[temp.index=='Count'][0] < A:\n",
        "  grouped_df2.iloc[-1]=grouped_df2.iloc[-1]+temp\n",
        "\n",
        "#년도도 더해져버림... 적절히 평균으로 만들어줌.\n",
        "def qq(x):\n",
        "  i=1\n",
        "  while x/i>2021 :\n",
        "    i+=1\n",
        "  return x/i\n",
        "grouped_df2['Year']=grouped_df2['Year'].apply(qq)\n",
        "grouped_df2.head()"
      ],
      "execution_count": null,
      "outputs": [
        {
          "output_type": "execute_result",
          "data": {
            "text/html": [
              "<div>\n",
              "<style scoped>\n",
              "    .dataframe tbody tr th:only-of-type {\n",
              "        vertical-align: middle;\n",
              "    }\n",
              "\n",
              "    .dataframe tbody tr th {\n",
              "        vertical-align: top;\n",
              "    }\n",
              "\n",
              "    .dataframe thead th {\n",
              "        text-align: right;\n",
              "    }\n",
              "</style>\n",
              "<table border=\"1\" class=\"dataframe\">\n",
              "  <thead>\n",
              "    <tr style=\"text-align: right;\">\n",
              "      <th>Genre</th>\n",
              "      <th>Year</th>\n",
              "      <th>Action</th>\n",
              "      <th>Adventure</th>\n",
              "      <th>Fighting</th>\n",
              "      <th>Misc</th>\n",
              "      <th>Platform</th>\n",
              "      <th>Puzzle</th>\n",
              "      <th>Racing</th>\n",
              "      <th>Role-Playing</th>\n",
              "      <th>Shooter</th>\n",
              "      <th>Simulation</th>\n",
              "      <th>Sports</th>\n",
              "      <th>Strategy</th>\n",
              "      <th>Count</th>\n",
              "    </tr>\n",
              "  </thead>\n",
              "  <tbody>\n",
              "    <tr>\n",
              "      <th>17</th>\n",
              "      <td>1988.5</td>\n",
              "      <td>123220.0</td>\n",
              "      <td>32930.0</td>\n",
              "      <td>84759.0</td>\n",
              "      <td>39350.0</td>\n",
              "      <td>280500.0</td>\n",
              "      <td>94000.0</td>\n",
              "      <td>96939.0</td>\n",
              "      <td>122690.0</td>\n",
              "      <td>106629.0</td>\n",
              "      <td>33980.0</td>\n",
              "      <td>106290.0</td>\n",
              "      <td>25550.0</td>\n",
              "      <td>1255.0</td>\n",
              "    </tr>\n",
              "    <tr>\n",
              "      <th>21</th>\n",
              "      <td>1999.5</td>\n",
              "      <td>157599.0</td>\n",
              "      <td>28570.0</td>\n",
              "      <td>84349.0</td>\n",
              "      <td>64460.0</td>\n",
              "      <td>106010.0</td>\n",
              "      <td>19460.0</td>\n",
              "      <td>139800.0</td>\n",
              "      <td>126390.0</td>\n",
              "      <td>53669.0</td>\n",
              "      <td>41480.0</td>\n",
              "      <td>164670.0</td>\n",
              "      <td>48020.0</td>\n",
              "      <td>1541.0</td>\n",
              "    </tr>\n",
              "    <tr>\n",
              "      <th>23</th>\n",
              "      <td>2002.5</td>\n",
              "      <td>154630.0</td>\n",
              "      <td>13190.0</td>\n",
              "      <td>48710.0</td>\n",
              "      <td>39420.0</td>\n",
              "      <td>88770.0</td>\n",
              "      <td>7040.0</td>\n",
              "      <td>82330.0</td>\n",
              "      <td>75380.0</td>\n",
              "      <td>74740.0</td>\n",
              "      <td>32029.0</td>\n",
              "      <td>121270.0</td>\n",
              "      <td>13460.0</td>\n",
              "      <td>1600.0</td>\n",
              "    </tr>\n",
              "    <tr>\n",
              "      <th>25</th>\n",
              "      <td>2004.5</td>\n",
              "      <td>161670.0</td>\n",
              "      <td>16980.0</td>\n",
              "      <td>36440.0</td>\n",
              "      <td>85790.0</td>\n",
              "      <td>70150.0</td>\n",
              "      <td>28670.0</td>\n",
              "      <td>102009.0</td>\n",
              "      <td>82460.0</td>\n",
              "      <td>88490.0</td>\n",
              "      <td>60170.0</td>\n",
              "      <td>120639.0</td>\n",
              "      <td>12480.0</td>\n",
              "      <td>1674.0</td>\n",
              "    </tr>\n",
              "    <tr>\n",
              "      <th>27</th>\n",
              "      <td>2006.5</td>\n",
              "      <td>172480.0</td>\n",
              "      <td>35920.0</td>\n",
              "      <td>40160.0</td>\n",
              "      <td>158300.0</td>\n",
              "      <td>85230.0</td>\n",
              "      <td>34570.0</td>\n",
              "      <td>73010.0</td>\n",
              "      <td>95650.0</td>\n",
              "      <td>109230.0</td>\n",
              "      <td>70580.0</td>\n",
              "      <td>234359.0</td>\n",
              "      <td>13610.0</td>\n",
              "      <td>2200.0</td>\n",
              "    </tr>\n",
              "  </tbody>\n",
              "</table>\n",
              "</div>"
            ],
            "text/plain": [
              "Genre    Year    Action  Adventure  ...    Sports  Strategy   Count\n",
              "17     1988.5  123220.0    32930.0  ...  106290.0   25550.0  1255.0\n",
              "21     1999.5  157599.0    28570.0  ...  164670.0   48020.0  1541.0\n",
              "23     2002.5  154630.0    13190.0  ...  121270.0   13460.0  1600.0\n",
              "25     2004.5  161670.0    16980.0  ...  120639.0   12480.0  1674.0\n",
              "27     2006.5  172480.0    35920.0  ...  234359.0   13610.0  2200.0\n",
              "\n",
              "[5 rows x 14 columns]"
            ]
          },
          "metadata": {
            "tags": []
          },
          "execution_count": 13
        }
      ]
    },
    {
      "cell_type": "code",
      "metadata": {
        "id": "CTZZevMGxVW7",
        "colab": {
          "base_uri": "https://localhost:8080/",
          "height": 202
        },
        "outputId": "b25204f6-3c0b-496b-bdf7-a01cf4feacf4"
      },
      "source": [
        "# 각 출시년도에 대하여 Count로 나누어줌. (가정1)\n",
        "for i in grouped_df2.columns.difference(['Year','Count']):\n",
        "  grouped_df2[i]=grouped_df2[i]/grouped_df2['Count']\n",
        "grouped_df2.head()"
      ],
      "execution_count": null,
      "outputs": [
        {
          "output_type": "execute_result",
          "data": {
            "text/html": [
              "<div>\n",
              "<style scoped>\n",
              "    .dataframe tbody tr th:only-of-type {\n",
              "        vertical-align: middle;\n",
              "    }\n",
              "\n",
              "    .dataframe tbody tr th {\n",
              "        vertical-align: top;\n",
              "    }\n",
              "\n",
              "    .dataframe thead th {\n",
              "        text-align: right;\n",
              "    }\n",
              "</style>\n",
              "<table border=\"1\" class=\"dataframe\">\n",
              "  <thead>\n",
              "    <tr style=\"text-align: right;\">\n",
              "      <th>Genre</th>\n",
              "      <th>Year</th>\n",
              "      <th>Action</th>\n",
              "      <th>Adventure</th>\n",
              "      <th>Fighting</th>\n",
              "      <th>Misc</th>\n",
              "      <th>Platform</th>\n",
              "      <th>Puzzle</th>\n",
              "      <th>Racing</th>\n",
              "      <th>Role-Playing</th>\n",
              "      <th>Shooter</th>\n",
              "      <th>Simulation</th>\n",
              "      <th>Sports</th>\n",
              "      <th>Strategy</th>\n",
              "      <th>Count</th>\n",
              "    </tr>\n",
              "  </thead>\n",
              "  <tbody>\n",
              "    <tr>\n",
              "      <th>17</th>\n",
              "      <td>1988.5</td>\n",
              "      <td>98.183267</td>\n",
              "      <td>26.239044</td>\n",
              "      <td>67.537052</td>\n",
              "      <td>31.354582</td>\n",
              "      <td>223.505976</td>\n",
              "      <td>74.900398</td>\n",
              "      <td>77.242231</td>\n",
              "      <td>97.760956</td>\n",
              "      <td>84.963347</td>\n",
              "      <td>27.075697</td>\n",
              "      <td>84.693227</td>\n",
              "      <td>20.358566</td>\n",
              "      <td>1255.0</td>\n",
              "    </tr>\n",
              "    <tr>\n",
              "      <th>21</th>\n",
              "      <td>1999.5</td>\n",
              "      <td>102.270604</td>\n",
              "      <td>18.539909</td>\n",
              "      <td>54.736535</td>\n",
              "      <td>41.829981</td>\n",
              "      <td>68.792992</td>\n",
              "      <td>12.628164</td>\n",
              "      <td>90.720311</td>\n",
              "      <td>82.018170</td>\n",
              "      <td>34.827385</td>\n",
              "      <td>26.917586</td>\n",
              "      <td>106.859182</td>\n",
              "      <td>31.161583</td>\n",
              "      <td>1541.0</td>\n",
              "    </tr>\n",
              "    <tr>\n",
              "      <th>23</th>\n",
              "      <td>2002.5</td>\n",
              "      <td>96.643750</td>\n",
              "      <td>8.243750</td>\n",
              "      <td>30.443750</td>\n",
              "      <td>24.637500</td>\n",
              "      <td>55.481250</td>\n",
              "      <td>4.400000</td>\n",
              "      <td>51.456250</td>\n",
              "      <td>47.112500</td>\n",
              "      <td>46.712500</td>\n",
              "      <td>20.018125</td>\n",
              "      <td>75.793750</td>\n",
              "      <td>8.412500</td>\n",
              "      <td>1600.0</td>\n",
              "    </tr>\n",
              "    <tr>\n",
              "      <th>25</th>\n",
              "      <td>2004.5</td>\n",
              "      <td>96.577061</td>\n",
              "      <td>10.143369</td>\n",
              "      <td>21.768220</td>\n",
              "      <td>51.248507</td>\n",
              "      <td>41.905615</td>\n",
              "      <td>17.126643</td>\n",
              "      <td>60.937276</td>\n",
              "      <td>49.259259</td>\n",
              "      <td>52.861410</td>\n",
              "      <td>35.943847</td>\n",
              "      <td>72.066308</td>\n",
              "      <td>7.455197</td>\n",
              "      <td>1674.0</td>\n",
              "    </tr>\n",
              "    <tr>\n",
              "      <th>27</th>\n",
              "      <td>2006.5</td>\n",
              "      <td>78.400000</td>\n",
              "      <td>16.327273</td>\n",
              "      <td>18.254545</td>\n",
              "      <td>71.954545</td>\n",
              "      <td>38.740909</td>\n",
              "      <td>15.713636</td>\n",
              "      <td>33.186364</td>\n",
              "      <td>43.477273</td>\n",
              "      <td>49.650000</td>\n",
              "      <td>32.081818</td>\n",
              "      <td>106.526818</td>\n",
              "      <td>6.186364</td>\n",
              "      <td>2200.0</td>\n",
              "    </tr>\n",
              "  </tbody>\n",
              "</table>\n",
              "</div>"
            ],
            "text/plain": [
              "Genre    Year      Action  Adventure  ...      Sports   Strategy   Count\n",
              "17     1988.5   98.183267  26.239044  ...   84.693227  20.358566  1255.0\n",
              "21     1999.5  102.270604  18.539909  ...  106.859182  31.161583  1541.0\n",
              "23     2002.5   96.643750   8.243750  ...   75.793750   8.412500  1600.0\n",
              "25     2004.5   96.577061  10.143369  ...   72.066308   7.455197  1674.0\n",
              "27     2006.5   78.400000  16.327273  ...  106.526818   6.186364  2200.0\n",
              "\n",
              "[5 rows x 14 columns]"
            ]
          },
          "metadata": {
            "tags": []
          },
          "execution_count": 14
        }
      ]
    },
    {
      "cell_type": "code",
      "metadata": {
        "id": "QHWILO8YxWq3",
        "colab": {
          "base_uri": "https://localhost:8080/"
        },
        "outputId": "f8f90d62-66fd-450c-b401-60e79e352466"
      },
      "source": [
        "chi2_1=chi2_contingency(grouped_df2[grouped_df2.columns.difference(['Count'])])\n",
        "chi2_1"
      ],
      "execution_count": null,
      "outputs": [
        {
          "output_type": "execute_result",
          "data": {
            "text/plain": [
              "(1279.7439040830805,\n",
              " 1.724383653993331e-199,\n",
              " 108,\n",
              " array([[ 118.47019129,   16.78986204,   32.5745123 ,   54.55699306,\n",
              "           62.97423775,   18.65798994,   52.46450991,   64.28669272,\n",
              "           70.50976375,   27.45568949,   91.15531716,   12.84964063,\n",
              "         2279.56894258],\n",
              "        [ 109.02005572,   15.45056757,   29.97610713,   50.20508837,\n",
              "           57.95090591,   17.16967856,   48.27951852,   59.15866891,\n",
              "           64.88533773,   25.26560281,   83.8840357 ,   11.82464991,\n",
              "         2097.73218419],\n",
              "        [ 100.89920463,   14.29966228,   27.74320144,   46.46533568,\n",
              "           53.63417102,   15.89071753,   44.68320059,   54.75196835,\n",
              "           60.05206038,   23.38358031,   77.63555455,   10.94383748,\n",
              "         1941.47313078],\n",
              "        [ 102.93759729,   14.58854787,   28.303677  ,   47.40404079,\n",
              "           54.71770286,   16.21174604,   45.58590253,   55.85808222,\n",
              "           61.26524813,   23.85598164,   79.20396875,   11.1649278 ,\n",
              "         1980.69528914],\n",
              "        [ 102.74194399,   14.56081945,   28.24988025,   47.31394002,\n",
              "           54.61370102,   16.18093241,   45.4992575 ,   55.75191287,\n",
              "           61.14880139,   23.81063862,   79.05342591,   11.14370664,\n",
              "         1976.93058537],\n",
              "        [ 101.38163783,   14.3680338 ,   27.87585106,   46.68750216,\n",
              "           53.89061412,   15.96669642,   44.89684607,   55.01375601,\n",
              "           60.33918958,   23.49538511,   78.00675638,   10.99616366,\n",
              "         1950.75597005],\n",
              "        [ 101.03873223,   14.31943644,   27.78156589,   46.52958987,\n",
              "           53.70833858,   15.91269187,   44.74499037,   54.82768164,\n",
              "           60.13510286,   23.41591609,   77.74291222,   10.95897107,\n",
              "         1944.15788038],\n",
              "        [ 101.30462451,   14.3571193 ,   27.85467552,   46.65203657,\n",
              "           53.84967678,   15.95456751,   44.86274074,   54.97196549,\n",
              "           60.29335365,   23.47753713,   77.94749951,   10.98781056,\n",
              "         1949.27410224],\n",
              "        [ 102.16087759,   14.47846941,   28.09011049,   47.04635174,\n",
              "           54.30482828,   16.08941967,   45.24193231,   55.43660286,\n",
              "           60.80296879,   23.67597539,   78.60633208,   11.0806824 ,\n",
              "         1965.74987477],\n",
              "        [ 102.35553281,   14.50605638,   28.1436328 ,   47.13599288,\n",
              "           54.40829957,   16.12007612,   45.32813535,   55.54223062,\n",
              "           60.9188215 ,   23.7210871 ,   78.75610695,   11.1017953 ,\n",
              "         1969.49537382]]))"
            ]
          },
          "metadata": {
            "tags": []
          },
          "execution_count": 15
        }
      ]
    },
    {
      "cell_type": "markdown",
      "metadata": {
        "id": "iqmUNLmAxZl7"
      },
      "source": [
        "p값 거의 0으로 년도와 장르는 독립적이지않다. 즉, 유의미한 연관이 있으며 연도별 트랜드는 존재한다.\n",
        "심지어 게임 갯수를 2000개이상씩 묶어도 결과는 같다\n"
      ]
    },
    {
      "cell_type": "markdown",
      "metadata": {
        "id": "X2AuROd9xb5d"
      },
      "source": [
        "# 3-3 출고량이 높은 게임에 대한 분석 및 시각화 프로세스"
      ]
    },
    {
      "cell_type": "code",
      "metadata": {
        "id": "He66td3vxX19",
        "colab": {
          "base_uri": "https://localhost:8080/",
          "height": 551
        },
        "outputId": "3e6fb433-2ba8-432b-886f-39ad3c07060a"
      },
      "source": [
        "sorted_df=df.sort_values(by=['Game_sales'], ascending=False)\n",
        "sorted_df=sorted_df.reset_index(drop=True)\n",
        "i=0\n",
        "while sorted_df['Game_sales'].iloc[i]>10000:\n",
        "  i+=1\n",
        "sorted_df=sorted_df.iloc[0:i]\n",
        "sorted_df"
      ],
      "execution_count": null,
      "outputs": [
        {
          "output_type": "execute_result",
          "data": {
            "text/html": [
              "<div>\n",
              "<style scoped>\n",
              "    .dataframe tbody tr th:only-of-type {\n",
              "        vertical-align: middle;\n",
              "    }\n",
              "\n",
              "    .dataframe tbody tr th {\n",
              "        vertical-align: top;\n",
              "    }\n",
              "\n",
              "    .dataframe thead th {\n",
              "        text-align: right;\n",
              "    }\n",
              "</style>\n",
              "<table border=\"1\" class=\"dataframe\">\n",
              "  <thead>\n",
              "    <tr style=\"text-align: right;\">\n",
              "      <th></th>\n",
              "      <th>Name</th>\n",
              "      <th>Platform</th>\n",
              "      <th>Year</th>\n",
              "      <th>Genre</th>\n",
              "      <th>Publisher</th>\n",
              "      <th>NA_Sales</th>\n",
              "      <th>EU_Sales</th>\n",
              "      <th>JP_Sales</th>\n",
              "      <th>Other_Sales</th>\n",
              "      <th>Game_sales</th>\n",
              "      <th>NA_Sales(rate)</th>\n",
              "      <th>EU_Sales(rate)</th>\n",
              "      <th>JP_Sales(rate)</th>\n",
              "      <th>Other_Sales(rate)</th>\n",
              "    </tr>\n",
              "  </thead>\n",
              "  <tbody>\n",
              "    <tr>\n",
              "      <th>0</th>\n",
              "      <td>Wii Sports</td>\n",
              "      <td>Wii</td>\n",
              "      <td>2006.0</td>\n",
              "      <td>Sports</td>\n",
              "      <td>Nintendo</td>\n",
              "      <td>41490</td>\n",
              "      <td>29020</td>\n",
              "      <td>3770</td>\n",
              "      <td>8460</td>\n",
              "      <td>82740</td>\n",
              "      <td>0.501450</td>\n",
              "      <td>0.350737</td>\n",
              "      <td>0.045564</td>\n",
              "      <td>0.102248</td>\n",
              "    </tr>\n",
              "    <tr>\n",
              "      <th>1</th>\n",
              "      <td>Super Mario Bros.</td>\n",
              "      <td>NES</td>\n",
              "      <td>1985.0</td>\n",
              "      <td>Platform</td>\n",
              "      <td>Nintendo</td>\n",
              "      <td>29080</td>\n",
              "      <td>3580</td>\n",
              "      <td>6810</td>\n",
              "      <td>770</td>\n",
              "      <td>40240</td>\n",
              "      <td>0.722664</td>\n",
              "      <td>0.088966</td>\n",
              "      <td>0.169235</td>\n",
              "      <td>0.019135</td>\n",
              "    </tr>\n",
              "    <tr>\n",
              "      <th>2</th>\n",
              "      <td>Mario Kart Wii</td>\n",
              "      <td>Wii</td>\n",
              "      <td>2008.0</td>\n",
              "      <td>Racing</td>\n",
              "      <td>Nintendo</td>\n",
              "      <td>15850</td>\n",
              "      <td>12880</td>\n",
              "      <td>3790</td>\n",
              "      <td>3310</td>\n",
              "      <td>35830</td>\n",
              "      <td>0.442367</td>\n",
              "      <td>0.359475</td>\n",
              "      <td>0.105777</td>\n",
              "      <td>0.092381</td>\n",
              "    </tr>\n",
              "    <tr>\n",
              "      <th>3</th>\n",
              "      <td>Wii Sports Resort</td>\n",
              "      <td>Wii</td>\n",
              "      <td>2009.0</td>\n",
              "      <td>Sports</td>\n",
              "      <td>Nintendo</td>\n",
              "      <td>15750</td>\n",
              "      <td>11010</td>\n",
              "      <td>3280</td>\n",
              "      <td>2960</td>\n",
              "      <td>33000</td>\n",
              "      <td>0.477273</td>\n",
              "      <td>0.333636</td>\n",
              "      <td>0.099394</td>\n",
              "      <td>0.089697</td>\n",
              "    </tr>\n",
              "    <tr>\n",
              "      <th>4</th>\n",
              "      <td>Pokemon Red/Pokemon Blue</td>\n",
              "      <td>GB</td>\n",
              "      <td>1996.0</td>\n",
              "      <td>Role-Playing</td>\n",
              "      <td>Nintendo</td>\n",
              "      <td>11270</td>\n",
              "      <td>8890</td>\n",
              "      <td>10220</td>\n",
              "      <td>1000</td>\n",
              "      <td>31380</td>\n",
              "      <td>0.359146</td>\n",
              "      <td>0.283301</td>\n",
              "      <td>0.325685</td>\n",
              "      <td>0.031867</td>\n",
              "    </tr>\n",
              "    <tr>\n",
              "      <th>...</th>\n",
              "      <td>...</td>\n",
              "      <td>...</td>\n",
              "      <td>...</td>\n",
              "      <td>...</td>\n",
              "      <td>...</td>\n",
              "      <td>...</td>\n",
              "      <td>...</td>\n",
              "      <td>...</td>\n",
              "      <td>...</td>\n",
              "      <td>...</td>\n",
              "      <td>...</td>\n",
              "      <td>...</td>\n",
              "      <td>...</td>\n",
              "      <td>...</td>\n",
              "    </tr>\n",
              "    <tr>\n",
              "      <th>56</th>\n",
              "      <td>Super Mario All-Stars</td>\n",
              "      <td>SNES</td>\n",
              "      <td>1993.0</td>\n",
              "      <td>Platform</td>\n",
              "      <td>Nintendo</td>\n",
              "      <td>5990</td>\n",
              "      <td>2150</td>\n",
              "      <td>2120</td>\n",
              "      <td>290</td>\n",
              "      <td>10550</td>\n",
              "      <td>0.567773</td>\n",
              "      <td>0.203791</td>\n",
              "      <td>0.200948</td>\n",
              "      <td>0.027488</td>\n",
              "    </tr>\n",
              "    <tr>\n",
              "      <th>57</th>\n",
              "      <td>Pokemon FireRed/Pokemon LeafGreen</td>\n",
              "      <td>GBA</td>\n",
              "      <td>2004.0</td>\n",
              "      <td>Role-Playing</td>\n",
              "      <td>Nintendo</td>\n",
              "      <td>4340</td>\n",
              "      <td>2650</td>\n",
              "      <td>3150</td>\n",
              "      <td>350</td>\n",
              "      <td>10490</td>\n",
              "      <td>0.413727</td>\n",
              "      <td>0.252622</td>\n",
              "      <td>0.300286</td>\n",
              "      <td>0.033365</td>\n",
              "    </tr>\n",
              "    <tr>\n",
              "      <th>58</th>\n",
              "      <td>Super Mario 64</td>\n",
              "      <td>DS</td>\n",
              "      <td>2004.0</td>\n",
              "      <td>Platform</td>\n",
              "      <td>Nintendo</td>\n",
              "      <td>5080</td>\n",
              "      <td>3110</td>\n",
              "      <td>1250</td>\n",
              "      <td>980</td>\n",
              "      <td>10420</td>\n",
              "      <td>0.487524</td>\n",
              "      <td>0.298464</td>\n",
              "      <td>0.119962</td>\n",
              "      <td>0.094050</td>\n",
              "    </tr>\n",
              "    <tr>\n",
              "      <th>59</th>\n",
              "      <td>Just Dance 3</td>\n",
              "      <td>Wii</td>\n",
              "      <td>2011.0</td>\n",
              "      <td>Misc</td>\n",
              "      <td>Ubisoft</td>\n",
              "      <td>6050</td>\n",
              "      <td>3150</td>\n",
              "      <td>0</td>\n",
              "      <td>1070</td>\n",
              "      <td>10270</td>\n",
              "      <td>0.589094</td>\n",
              "      <td>0.306719</td>\n",
              "      <td>0.000000</td>\n",
              "      <td>0.104187</td>\n",
              "    </tr>\n",
              "    <tr>\n",
              "      <th>60</th>\n",
              "      <td>Call of Duty: Ghosts</td>\n",
              "      <td>X360</td>\n",
              "      <td>2013.0</td>\n",
              "      <td>Shooter</td>\n",
              "      <td>Activision</td>\n",
              "      <td>6720</td>\n",
              "      <td>2630</td>\n",
              "      <td>40</td>\n",
              "      <td>820</td>\n",
              "      <td>10210</td>\n",
              "      <td>0.658178</td>\n",
              "      <td>0.257591</td>\n",
              "      <td>0.003918</td>\n",
              "      <td>0.080313</td>\n",
              "    </tr>\n",
              "  </tbody>\n",
              "</table>\n",
              "<p>61 rows × 14 columns</p>\n",
              "</div>"
            ],
            "text/plain": [
              "                                 Name  ... Other_Sales(rate)\n",
              "0                          Wii Sports  ...          0.102248\n",
              "1                   Super Mario Bros.  ...          0.019135\n",
              "2                      Mario Kart Wii  ...          0.092381\n",
              "3                   Wii Sports Resort  ...          0.089697\n",
              "4            Pokemon Red/Pokemon Blue  ...          0.031867\n",
              "..                                ...  ...               ...\n",
              "56              Super Mario All-Stars  ...          0.027488\n",
              "57  Pokemon FireRed/Pokemon LeafGreen  ...          0.033365\n",
              "58                     Super Mario 64  ...          0.094050\n",
              "59                       Just Dance 3  ...          0.104187\n",
              "60               Call of Duty: Ghosts  ...          0.080313\n",
              "\n",
              "[61 rows x 14 columns]"
            ]
          },
          "metadata": {
            "tags": []
          },
          "execution_count": 16
        }
      ]
    },
    {
      "cell_type": "code",
      "metadata": {
        "id": "6CNJAD-jxg5T",
        "colab": {
          "base_uri": "https://localhost:8080/",
          "height": 281
        },
        "outputId": "909b15ca-a9fe-47a8-bb7c-09f894d334c9"
      },
      "source": [
        "import matplotlib.pyplot as plt\n",
        "import seaborn as sns\n",
        "plt.figure(figsize=(40, 6))\n",
        "plt.subplot(131)\n",
        "plt.pie(sorted_df['Publisher'].value_counts(), labels=sorted_df['Publisher'].value_counts().index, autopct='%.1f%%');\n",
        "plt.title('Publisher');\n",
        "\n",
        "plt.subplot(132)\n",
        "plt.pie(sorted_df['Platform'].value_counts(), labels=sorted_df['Platform'].value_counts().index, autopct='%.1f%%');\n",
        "plt.title('Platform');\n",
        "\n",
        "plt.subplot(133)\n",
        "\n",
        "#plt.bar(sorted_df['Genre'].value_counts(), labels=sorted_df['Platform'].value_counts().index, autopct='%.1f%%');\n",
        "plt.title('Genre');\n",
        "grouped_df3=sorted_df.groupby(['Genre']).count()\n",
        "grouped_df3\n",
        "plt.bar(grouped_df3.index, grouped_df3['Name']);"
      ],
      "execution_count": null,
      "outputs": [
        {
          "output_type": "display_data",
          "data": {
            "image/png": "[encoded data removed]",
            "text/plain": [
              "<Figure size 2880x432 with 3 Axes>"
            ]
          },
          "metadata": {
            "tags": [],
            "needs_background": "light"
          }
        }
      ]
    },
    {
      "cell_type": "markdown",
      "metadata": {
        "id": "60YCkyrjxlUh"
      },
      "source": [
        "#결론. 다음 분기에 어떤 게임을 설계해야 할까\n",
        "\n",
        "4-1. 장르는 트렌드와 시장규모 측면에서 유리한 것으로 선정\n",
        "\n",
        "4-2. 퍼블리셔는 그 장르의 큰 규모 게임 사례가 있으면 좋겠다. (운영 노하우가 있을거라 가정)\n",
        "\n",
        "4-3. 플랫폼은 퍼블리셔가 가장 많이 사용하는 플랫폼을 우\n",
        "선으로 (+ 장르에 상관없이 큰 규모의 게임 사례가 있으면 좋겠다.)"
      ]
    },
    {
      "cell_type": "markdown",
      "metadata": {
        "id": "NVMQFl2jxw29"
      },
      "source": [
        "#4-1. 장르의 트렌드\n",
        "트렌드와 시장의 크기를 고려하여 Action 장르로 선정"
      ]
    },
    {
      "cell_type": "code",
      "metadata": {
        "id": "1Z-UZzU3xzDB",
        "colab": {
          "base_uri": "https://localhost:8080/",
          "height": 543
        },
        "outputId": "e10a5d83-ba1a-4f5e-a41b-48145a2e8240"
      },
      "source": [
        "print('y축은 출고량')\n",
        "plt.figure(figsize=(30,10))\n",
        "ax1 = plt.subplot2grid((3,7), (0,0))\n",
        "plt.scatter(grouped_df2['Year'],grouped_df2['Action'])\n",
        "plt.title('Action')\n",
        "ax1 = plt.subplot2grid((3,7), (0,1))\n",
        "plt.scatter(grouped_df2['Year'],grouped_df2['Adventure'])\n",
        "plt.title('Adventure')\n",
        "ax1 = plt.subplot2grid((3,7), (0,2))\n",
        "plt.scatter(grouped_df2['Year'],grouped_df2['Fighting'])\n",
        "plt.title('Fighting')\n",
        "ax1 = plt.subplot2grid((3,7), (0,3))\n",
        "plt.scatter(grouped_df2['Year'],grouped_df2['Misc'])\n",
        "plt.title('Misc')\n",
        "ax1 = plt.subplot2grid((3,7), (1,0))\n",
        "plt.scatter(grouped_df2['Year'],grouped_df2['Platform'])\n",
        "plt.title('Platform')\n",
        "ax1 = plt.subplot2grid((3,7), (1,1))\n",
        "plt.scatter(grouped_df2['Year'],grouped_df2['Puzzle'])\n",
        "plt.title('Puzzle')\n",
        "ax1 = plt.subplot2grid((3,7), (1,2))\n",
        "plt.scatter(grouped_df2['Year'],grouped_df2['Racing'])\n",
        "plt.title('Racing')\n",
        "ax1 = plt.subplot2grid((3,7), (1,3))\n",
        "plt.scatter(grouped_df2['Year'],grouped_df2['Role-Playing'])\n",
        "plt.title('Role')\n",
        "ax1 = plt.subplot2grid((3,7), (2,0))\n",
        "plt.scatter(grouped_df2['Year'],grouped_df2['Shooter'])\n",
        "plt.title('Shooter')\n",
        "ax1 = plt.subplot2grid((3,7), (2,1))\n",
        "plt.scatter(grouped_df2['Year'],grouped_df2['Simulation'])\n",
        "plt.title('Simulation')\n",
        "ax1 = plt.subplot2grid((3,7), (2,2))\n",
        "plt.scatter(grouped_df2['Year'],grouped_df2['Sports'])\n",
        "plt.title('Sports')\n",
        "ax1 = plt.subplot2grid((3,7), (2,3))\n",
        "plt.scatter(grouped_df2['Year'],grouped_df2['Strategy'])\n",
        "plt.title('Strategy');\n",
        "\n",
        "ax1 = plt.subplot2grid((3,7), (0,4), colspan=3)\n",
        "plt.bar(grouped_df1.index, grouped_df1.sum(axis=1))\n",
        "plt.title('Genre market size');"
      ],
      "execution_count": null,
      "outputs": [
        {
          "output_type": "stream",
          "text": [
            "y축은 출고량\n"
          ],
          "name": "stdout"
        },
        {
          "output_type": "display_data",
          "data": {
            "image/png": "[encoded data removed]",
            "text/plain": [
              "<Figure size 2160x720 with 13 Axes>"
            ]
          },
          "metadata": {
            "tags": [],
            "needs_background": "light"
          }
        }
      ]
    },
    {
      "cell_type": "markdown",
      "metadata": {
        "id": "1JD-uzcRx9TN"
      },
      "source": [
        "> ## **4-2. 퍼블리셔 별 Action 게임 데이터**"
      ]
    },
    {
      "cell_type": "code",
      "metadata": {
        "id": "6KG29K7ax9ql",
        "colab": {
          "base_uri": "https://localhost:8080/",
          "height": 472
        },
        "outputId": "e987c370-abf5-4759-be92-986edf939c91"
      },
      "source": [
        "action_df=df[df['Genre']=='Action'].sort_values(by=['Game_sales'], ascending=False)\n",
        "i=0\n",
        "while action_df['Game_sales'].iloc[i]>2000:\n",
        "  i+=1\n",
        "action_df=action_df.iloc[0:i]\n",
        "print(action_df.groupby('Publisher').count()['Name'].sort_values(ascending=False)[0:3])\n",
        "\n",
        "plt.figure(figsize=(30,5))\n",
        "plt.subplot(131)\n",
        "plt.scatter(action_df[action_df['Publisher'] == 'Ubisoft']['Year'], action_df[action_df['Publisher'] == 'Ubisoft']['Game_sales'])\n",
        "plt.subplot(132)\n",
        "plt.scatter(action_df[action_df['Publisher'] == 'Nintendo']['Year'], action_df[action_df['Publisher'] == 'Nintendo']['Game_sales'])\n",
        "plt.subplot(133)\n",
        "plt.scatter(action_df[action_df['Publisher'] == 'Take-Two Interactive']['Year'], action_df[action_df['Publisher'] == 'Take-Two Interactive']['Game_sales'])\n",
        "\n",
        "print(action_df[action_df['Publisher'] == 'Take-Two Interactive'][['Year','Game_sales']][0:5])"
      ],
      "execution_count": null,
      "outputs": [
        {
          "output_type": "stream",
          "text": [
            "Publisher\n",
            "Ubisoft                 22\n",
            "Nintendo                21\n",
            "Take-Two Interactive    20\n",
            "Name: Name, dtype: int64\n",
            "         Year  Game_sales\n",
            "3483   2013.0       21390\n",
            "14669  2004.0       20810\n",
            "10913  2013.0       16380\n",
            "5340   2002.0       16150\n",
            "9786   2001.0       13100\n"
          ],
          "name": "stdout"
        },
        {
          "output_type": "display_data",
          "data": {
            "image/png": "[encoded data removed]",
            "text/plain": [
              "<Figure size 2160x360 with 3 Axes>"
            ]
          },
          "metadata": {
            "tags": [],
            "needs_background": "light"
          }
        }
      ]
    },
    {
      "cell_type": "markdown",
      "metadata": {
        "id": "YazOxghoyCzA"
      },
      "source": [
        "## **4-3. 플랫폼 : 퍼블리셔와 밀접한 플랫폼**"
      ]
    },
    {
      "cell_type": "code",
      "metadata": {
        "id": "LkIUTNQ7yDMX",
        "colab": {
          "base_uri": "https://localhost:8080/"
        },
        "outputId": "3f0f2e80-26b1-4a89-8500-5a1354e9401c"
      },
      "source": [
        "print(pd.DataFrame(df[df['Publisher']=='Take-Two Interactive'].groupby(['Platform']).count()).sort_values(by='Name', ascending=False)['Name'][0:3])\n",
        "\n",
        "print(df[df['Publisher']=='Take-Two Interactive'][df['Platform']=='PS3'].sort_values(by='Year').iloc[-1]['Year'])"
      ],
      "execution_count": null,
      "outputs": [
        {
          "output_type": "stream",
          "text": [
            "Platform\n",
            "X360    70\n",
            "PS2     60\n",
            "PS3     53\n",
            "Name: Name, dtype: int64\n",
            "2016.0\n"
          ],
          "name": "stdout"
        },
        {
          "output_type": "stream",
          "text": [
            "/usr/local/lib/python3.7/dist-packages/ipykernel_launcher.py:3: UserWarning: Boolean Series key will be reindexed to match DataFrame index.\n",
            "  This is separate from the ipykernel package so we can avoid doing imports until\n"
          ],
          "name": "stderr"
        }
      ]
    },
    {
      "cell_type": "markdown",
      "metadata": {
        "id": "TbVYeKcPyKWf"
      },
      "source": [
        "#결론 : Action 게임을,Take-Two Interactive 퍼블리셔와 함께, X360 혹은 PS3 플랫폼에서 설계할것이다."
      ]
    }
  ]
}